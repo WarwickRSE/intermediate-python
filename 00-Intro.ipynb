{
 "cells": [
  {
   "attachments": {},
   "cell_type": "markdown",
   "metadata": {},
   "source": [
    "# Intermediate Python\n",
    "\n",
    "Welcome to Intermediate Python, in this course we will work on the following:\n",
    "\n",
    "- Why not to use jupyter notebooks. And how we will use jupyter notebooks while not using jupyter notebooks.\n",
    "- Learning the basics of C. Learning C is the only way (IMHO) to move beyond beginner Python. (If you know C++, Fortran, or other compiled languages then those work too but C is the best.)\n",
    "- Learning about different programming models and when to use them.\n",
    "- Classes in Python.\n",
    "- Functions using Args and Kwargs.\n",
    "- Everything is an object.\n",
    "- How to use a profiler to identify code that is slow."
   ]
  },
  {
   "cell_type": "markdown",
   "metadata": {},
   "source": [
    "Before we get started a few terms we will need:\n",
    "\n",
    "- `notebook` this is what you are looking at they are designed to have code and explanation together they are made of cells.\n",
    "- `cell`s are the boxes where these notes are and also where the code is.\n",
    "- `code` is the text, symbols and numbers in one of these cells.\n",
    "- `dropdowns` There is an example below, these are extra information, clarification, hints, or answers. They are totally optional if any contain really confusing topics they will have a skip warning. \n",
    "- `script` a plain text file containing code, here either `C` or `Python`, these files will have an extension `.c` or `.py` which identifies them as a script of the given language.\n",
    "- `interpreter` a program that can run a script for the given language, here `Python`.\n",
    "- `compiler` a program that can convert a script into a program that can be run by the computer, here we will use `gcc`.\n",
    "\n",
    "<details>\n",
    "<summary> Dropdown </summary>\n",
    "\n",
    "Some information you don't need to see right away.\n",
    "\n",
    "</details>\n",
    "\n",
    "### Is this top quality programming?\n",
    "Short answer no. Really good programming is hard, takes years of practice, and is a full time job. Some of the code in these notebooks is simply bad, but, it is designed to be readable and develop your skills. The examples and challenges will try to build you to a point where you can read and write basic python code. \n",
    "\n",
    "Where strictly bad practices are required because we haven't yet covered what we need to maintain good practice this will be noted. Where simplifications or over generalizations are made there will be a dropdown with further explanation. Those dropdowns are designed for completeness without overwhelming you with unnecessary details they do not need to be read/understood.\n",
    "\n",
    "### Methodology \n",
    "This is a hands on learning course as much as possible you will be asked to copy, modify, and write code. **You will get things wrong**, this is fine simply re-write the code and try again. For any challenges you get stuck on you can look at the provided hints. The hints are ordered from a nudge to a fill in the blanks solution. There is nothing wrong with needing the fill in the blanks solution but if you use them try doing the challenge again in a few days without looking at the hints.\n",
    "\n",
    "### Outcomes\n",
    "Once you have finished this course you will not be a scientific programmer. What you will have is a greater understanding of how Python, and C, works this will enable you to read, understand, and critique your own and other scientific Python code. \n"
   ]
  },
  {
   "cell_type": "markdown",
   "metadata": {},
   "source": [
    "# Jupyter Notebooks\n",
    "\n",
    "Jupyter notebooks have their uses, running training, interleaving markdown with code, and doing iteration. \n",
    "However, it's drawbacks are numerous and it is worth knowing when to and when not to use them.\n",
    "\n",
    "This talk, does an excellent job of detailing this:\n",
    "https://docs.google.com/presentation/d/1n2RlMdmv1p25Xy5thJUhkKGvjtV-dkAIsUXP-AL4ffI/edit?usp=share_link\n",
    "\n",
    "\n",
    "I will summarize the key points here:\n",
    "\n",
    "- Notebooks have hidden state that cannot be fully understood without using `cell magic`\n",
    "- The ability to run cells out of order introduces unnecessary confusion which is either unintuitive for people used to scripts or creates expectations for newcomers that don't bear out when they make the jump to scripts\n",
    "- It makes one of the most useful aspects of Python, importing your own work via `import my_script` much harder and far less intuitive\n",
    "\n",
    "## So why are we using them.\n",
    "\n",
    "1. Notable is useful to give you all a shared environment\n",
    "2. I can use some of the 'magic' in them to help provide feedback\n",
    "3. This isn't scientific code for real world applications, it's training so it falls into the use case where they are good.\n",
    "\n",
    "## How we can use them\n",
    "\n",
    "For some concepts we can use them directly by running python in the cell. For more in depth concepts we can use them as a replacement for the 'command line'. The following few cells, will showcase this behavior."
   ]
  },
  {
   "cell_type": "markdown",
   "metadata": {},
   "source": [
    "#### The following cell runs python directly."
   ]
  },
  {
   "cell_type": "code",
   "execution_count": null,
   "metadata": {},
   "outputs": [],
   "source": [
    "print(\"Hello World!\")"
   ]
  },
  {
   "cell_type": "markdown",
   "metadata": {},
   "source": [
    "#### This cell uses Jupyter magic `%%bash` to turn the cell into a pseudo terminal then running python by invoking the python3 command and passing the script to run as an argument."
   ]
  },
  {
   "cell_type": "code",
   "execution_count": 12,
   "metadata": {},
   "outputs": [
    {
     "name": "stdout",
     "output_type": "stream",
     "text": [
      "Hello World!\n"
     ]
    }
   ],
   "source": [
    "%%bash\n",
    "python3 ./python-scripts/hello-world.py"
   ]
  },
  {
   "cell_type": "markdown",
   "metadata": {},
   "source": [
    "#### This cell uses the same `%%bash` magic on the first line compiles c code using gcc on the second line and runs the output program on the third"
   ]
  },
  {
   "cell_type": "code",
   "execution_count": 13,
   "metadata": {},
   "outputs": [
    {
     "name": "stderr",
     "output_type": "stream",
     "text": [
      "-macosx_version_min has been renamed to -macos_version_min\n",
      "ld: warning: ignoring duplicate libraries: '-lgcc'\n"
     ]
    },
    {
     "name": "stdout",
     "output_type": "stream",
     "text": [
      "Hello World!"
     ]
    }
   ],
   "source": [
    "%%bash\n",
    "gcc -o ./c-programs/hello-world ./c-scripts/hello-world.c\n",
    "./c-programs/hello-world"
   ]
  },
  {
   "cell_type": "markdown",
   "metadata": {},
   "source": [
    "#### Finally we will want to be able to open files to edit them\n",
    "\n",
    "Where you need to open a file it will appear on a line like these:\n",
    "\n",
    "[hello-world.c](../../../edit/Intermediate%20Python/intermediate-python/c-scripts/hello-world.c)\n",
    "\n",
    "\n",
    "[hello-world.py](../../../edit/Intermediate%20Python/intermediate-python/python-scripts/hello-world.py)\n",
    "\n",
    "\n",
    "These files are stored in the python-scripts and c-scripts directories, open them up and modify the hello world message then re run the cells above to see how the output changes."
   ]
  },
  {
   "cell_type": "markdown",
   "metadata": {},
   "source": [
    "## Next Section \n",
    "\n",
    "[01-hello-c](./01-hello-c.ipynb)"
   ]
  }
 ],
 "metadata": {
  "kernelspec": {
   "display_name": ".venv",
   "language": "python",
   "name": "python3"
  },
  "language_info": {
   "codemirror_mode": {
    "name": "ipython",
    "version": 3
   },
   "file_extension": ".py",
   "mimetype": "text/x-python",
   "name": "python",
   "nbconvert_exporter": "python",
   "pygments_lexer": "ipython3",
   "version": "3.11.6"
  },
  "orig_nbformat": 4
 },
 "nbformat": 4,
 "nbformat_minor": 2
}
