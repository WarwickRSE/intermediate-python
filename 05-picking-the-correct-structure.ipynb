{
 "cells": [
  {
   "cell_type": "markdown",
   "metadata": {},
   "source": [
    "# What structure should my code take?\n",
    "\n",
    "This is a tough question, it's often made clear by writing the code once realizing whats wrong then writing it again or refactoring* the code into something better.\n",
    "\n",
    "<details>\n",
    "<summary>*refactoring</summary>\n",
    "\n",
    "Restructuring code into a better form or structure.\n",
    "\n",
    "</details>\n",
    "\n",
    "The more code you write the more you will see familiar patterns or structures and will be able to draw on what you have done before. Reducing the amount of refactoring you are required to do.\n",
    "\n",
    "If your code is doing a fairly standard process, e.g. loading, cleaning, processing and plotting data the work may have been done for you with a package.\n",
    "\n",
    "If you are unfamiliar with packages please see the course on github [python-packages](https://github.com/WarwickRSE/python-packages-and-environments) or moodle [python-packages](https://moodle.warwick.ac.uk/course/view.php?id=62660).\n",
    "\n",
    "We will start with some common highly structured packages."
   ]
  }
 ],
 "metadata": {
  "language_info": {
   "name": "python"
  }
 },
 "nbformat": 4,
 "nbformat_minor": 2
}
