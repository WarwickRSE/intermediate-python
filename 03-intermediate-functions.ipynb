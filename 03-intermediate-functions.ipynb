{
 "cells": [
  {
   "cell_type": "markdown",
   "metadata": {},
   "source": [
    "# Functions\n",
    "\n",
    "This section is going to deepen your understanding of functions, we will cover:\n",
    "\n",
    "- Refresher on why we use functions\n",
    "- Args and Kwargs and how to use them\n",
    "- Functions as a python object\n",
    "- Function Wrappers and decorators\n",
    "Advanced:\n",
    "- Just in Time compilation\n",
    "\n",
    "### Refresher\n",
    "If you have followed [zero-to-python](https://moodle.warwick.ac.uk/course/view.php?id=55824) or other beginner python courses you will be aware that: \n",
    "- Functions improve code readability and can substantially shorten code by reducing code replication.\n",
    "- Functions are flexible but sticking to a few *guidelines will prevent them making your code more confusing.\n",
    "\n",
    "<details>\n",
    "<summary>*function guidelines</summary>\n",
    "0. Functions have a sensible name and a full docstring\n",
    "1. Return a single variable/object\n",
    "2. Have a single exit point\n",
    "3. Functions return or mutate, never both\n",
    "4. No side effects\n",
    "\n",
    "If any of these are unfamiliar to you I suggest reading the [Functions Rules](https://github.com/WarwickRSE/training-zero-to-python/blob/main/03-Functions.ipynb) section of zero-to-python.\n",
    "</details>\n",
    "\n",
    "Hopefully, if these guidelines make more sense now you've seen some of the awkward pointer-like things that python can do. \n",
    "You may be thinking about functions which you expected to have no side effects but inadvertently mutated their inputs.\n",
    "\n",
    "You may be thinking about how you can use the pointer like behavior to make a function do so so much more."
   ]
  },
  {
   "cell_type": "markdown",
   "metadata": {},
   "source": [
    "[classes](./04-classes.ipynb)"
   ]
  },
  {
   "cell_type": "code",
   "execution_count": null,
   "metadata": {
    "vscode": {
     "languageId": "plaintext"
    }
   },
   "outputs": [],
   "source": []
  },
  {
   "cell_type": "code",
   "execution_count": null,
   "metadata": {
    "vscode": {
     "languageId": "plaintext"
    }
   },
   "outputs": [],
   "source": []
  }
 ],
 "metadata": {
  "language_info": {
   "name": "python"
  }
 },
 "nbformat": 4,
 "nbformat_minor": 2
}
