{
 "cells": [
  {
   "cell_type": "markdown",
   "metadata": {},
   "source": [
    "[picking-the-correct-structure](./05-picking-the-correct-structure.ipynb)"
   ]
  },
  {
   "cell_type": "markdown",
   "metadata": {},
   "source": []
  }
 ],
 "metadata": {
  "language_info": {
   "name": "python"
  }
 },
 "nbformat": 4,
 "nbformat_minor": 2
}
