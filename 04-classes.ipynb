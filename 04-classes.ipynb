{
 "cells": [
  {
   "cell_type": "markdown",
   "metadata": {},
   "source": [
    "# Classes\n",
    "\n",
    "Classes are a major part of Python and object oriented programming.\n",
    "\n",
    "#### Why use classes?\n",
    "\n",
    "Classes have a set data structure, which confers benefits when you have definite processes you want to run on your data.\n",
    "\n",
    "While there are many examples and uses of classes we will start with the concept of giving structure to data.\n",
    "\n",
    "Before we get into that, lets look at how to create a class, based on the dog which we previously stored in a dictionary lets see how that changes when we use a class.\n",
    "\n",
    "A refresher on the dictionary we used:\n",
    "\n",
    "```python\n",
    "\n",
    "my_dict = {\n",
    "'Name': 'Milo',\n",
    "'Owner': 'Cassandra'\n",
    "'Age' : 4,\n",
    "'Sex': 'Dog',\n",
    "'Breed': 'Mixed',\n",
    "'Parents': ('Poppy', 'Max'),\n",
    "'Offspring': None,\n",
    "'Tricks' : ['Sit', 'Paw', 'Beg', 'Stay'],\n",
    "'Color': 'Brown',\n",
    "}\n",
    "\n",
    "```\n",
    "\n",
    "We will build this up bit by bit until we have a data structure that at least matches the dictionary.\n",
    "\n",
    "This notebook will introduce concepts and expect you to work in one script iteratively improving the Dog class in [learning_classes.py](../../../edit/Intermediate%20Python/intermediate-python/python-scripts/learning_classes.py). \n",
    "Similarly to other notebooks code cells will then import that class and pass it to another function which will provide feedback by testing the class.\n",
    "\n",
    "```python\n",
    "\n",
    "class Dog:\n",
    "    def __init__(self):\n",
    "        pass\n",
    "\n",
    "```"
   ]
  },
  {
   "cell_type": "markdown",
   "metadata": {},
   "source": [
    "[picking-the-correct-structure](./05-picking-the-correct-structure.ipynb)"
   ]
  },
  {
   "cell_type": "markdown",
   "metadata": {},
   "source": []
  }
 ],
 "metadata": {
  "language_info": {
   "name": "python"
  }
 },
 "nbformat": 4,
 "nbformat_minor": 2
}
